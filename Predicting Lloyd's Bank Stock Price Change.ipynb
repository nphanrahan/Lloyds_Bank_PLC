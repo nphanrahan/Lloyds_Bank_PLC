{
 "cells": [
  {
   "cell_type": "code",
   "execution_count": 77,
   "metadata": {},
   "outputs": [
    {
     "data": {
      "text/plain": [
       "Index(['Date', 'LLOY_Open', 'LLOY_High', 'LLOY_Low', 'LLOY_Close',\n",
       "       'LLOY_Change', 'LLOY_Percent', 'LSE_Price', 'LSE_Open', 'LSE_High',\n",
       "       'LSE_Low', 'LSE_Change', 'LSE_Percent', '2 MYYC', '10 MYYC', '2s10s'],\n",
       "      dtype='object')"
      ]
     },
     "execution_count": 77,
     "metadata": {},
     "output_type": "execute_result"
    }
   ],
   "source": [
    "#CSV currently housing daily price of Lloyd's Banking Group, London Stock Exchange (LSE),\n",
    "#and the 2s10s yield curve for the corresponding days.\n",
    "\n",
    "import pandas as pd\n",
    "LLOYD_price = pd.read_csv(\"/Users/natehanrahan/Downloads/LLOY_and_LSE.csv\")\n",
    "LLOYD_price.columns"
   ]
  },
  {
   "cell_type": "code",
   "execution_count": 78,
   "metadata": {},
   "outputs": [],
   "source": [
    "LLOYD_price = LLOYD_price.dropna(axis=0)"
   ]
  },
  {
   "cell_type": "code",
   "execution_count": 79,
   "metadata": {},
   "outputs": [
    {
     "data": {
      "text/html": [
       "<div>\n",
       "<style scoped>\n",
       "    .dataframe tbody tr th:only-of-type {\n",
       "        vertical-align: middle;\n",
       "    }\n",
       "\n",
       "    .dataframe tbody tr th {\n",
       "        vertical-align: top;\n",
       "    }\n",
       "\n",
       "    .dataframe thead th {\n",
       "        text-align: right;\n",
       "    }\n",
       "</style>\n",
       "<table border=\"1\" class=\"dataframe\">\n",
       "  <thead>\n",
       "    <tr style=\"text-align: right;\">\n",
       "      <th></th>\n",
       "      <th>Date</th>\n",
       "      <th>LLOY_Open</th>\n",
       "      <th>LLOY_High</th>\n",
       "      <th>LLOY_Low</th>\n",
       "      <th>LLOY_Close</th>\n",
       "      <th>LLOY_Change</th>\n",
       "      <th>LLOY_Percent</th>\n",
       "      <th>LSE_Price</th>\n",
       "      <th>LSE_Open</th>\n",
       "      <th>LSE_High</th>\n",
       "      <th>LSE_Low</th>\n",
       "      <th>LSE_Change</th>\n",
       "      <th>LSE_Percent</th>\n",
       "      <th>2 MYYC</th>\n",
       "      <th>10 MYYC</th>\n",
       "      <th>2s10s</th>\n",
       "    </tr>\n",
       "  </thead>\n",
       "  <tbody>\n",
       "    <tr>\n",
       "      <td>0</td>\n",
       "      <td>27-Aug-19</td>\n",
       "      <td>49.590000</td>\n",
       "      <td>51.299999</td>\n",
       "      <td>49.349998</td>\n",
       "      <td>49.759998</td>\n",
       "      <td>-0.0034</td>\n",
       "      <td>-0.3416</td>\n",
       "      <td>6840.0</td>\n",
       "      <td>6900.0</td>\n",
       "      <td>6902.0</td>\n",
       "      <td>6784.0</td>\n",
       "      <td>0.0012</td>\n",
       "      <td>0.12</td>\n",
       "      <td>0.37</td>\n",
       "      <td>0.47</td>\n",
       "      <td>0.1052</td>\n",
       "    </tr>\n",
       "    <tr>\n",
       "      <td>1</td>\n",
       "      <td>28-Aug-19</td>\n",
       "      <td>49.855000</td>\n",
       "      <td>49.939999</td>\n",
       "      <td>49.215000</td>\n",
       "      <td>49.514999</td>\n",
       "      <td>0.0069</td>\n",
       "      <td>0.6867</td>\n",
       "      <td>6880.0</td>\n",
       "      <td>6852.0</td>\n",
       "      <td>6904.0</td>\n",
       "      <td>6804.0</td>\n",
       "      <td>0.0058</td>\n",
       "      <td>0.58</td>\n",
       "      <td>0.34</td>\n",
       "      <td>0.41</td>\n",
       "      <td>0.0722</td>\n",
       "    </tr>\n",
       "    <tr>\n",
       "      <td>2</td>\n",
       "      <td>29-Aug-19</td>\n",
       "      <td>49.244999</td>\n",
       "      <td>50.147999</td>\n",
       "      <td>48.419998</td>\n",
       "      <td>49.805000</td>\n",
       "      <td>-0.0112</td>\n",
       "      <td>-1.1244</td>\n",
       "      <td>6970.0</td>\n",
       "      <td>6894.0</td>\n",
       "      <td>6982.0</td>\n",
       "      <td>6876.0</td>\n",
       "      <td>0.0131</td>\n",
       "      <td>1.31</td>\n",
       "      <td>0.35</td>\n",
       "      <td>0.40</td>\n",
       "      <td>0.0535</td>\n",
       "    </tr>\n",
       "    <tr>\n",
       "      <td>3</td>\n",
       "      <td>30-Aug-19</td>\n",
       "      <td>49.994999</td>\n",
       "      <td>51.049999</td>\n",
       "      <td>49.720001</td>\n",
       "      <td>49.830002</td>\n",
       "      <td>0.0033</td>\n",
       "      <td>0.3311</td>\n",
       "      <td>6954.0</td>\n",
       "      <td>6936.0</td>\n",
       "      <td>7032.0</td>\n",
       "      <td>6932.0</td>\n",
       "      <td>-0.0023</td>\n",
       "      <td>-0.23</td>\n",
       "      <td>0.38</td>\n",
       "      <td>0.44</td>\n",
       "      <td>0.0599</td>\n",
       "    </tr>\n",
       "    <tr>\n",
       "      <td>4</td>\n",
       "      <td>2-Sep-19</td>\n",
       "      <td>49.840000</td>\n",
       "      <td>50.770000</td>\n",
       "      <td>49.830002</td>\n",
       "      <td>50.320000</td>\n",
       "      <td>-0.0095</td>\n",
       "      <td>-0.9539</td>\n",
       "      <td>7020.0</td>\n",
       "      <td>6936.0</td>\n",
       "      <td>7040.0</td>\n",
       "      <td>6932.0</td>\n",
       "      <td>0.0095</td>\n",
       "      <td>0.95</td>\n",
       "      <td>0.33</td>\n",
       "      <td>0.39</td>\n",
       "      <td>0.0601</td>\n",
       "    </tr>\n",
       "  </tbody>\n",
       "</table>\n",
       "</div>"
      ],
      "text/plain": [
       "        Date  LLOY_Open  LLOY_High   LLOY_Low  LLOY_Close  LLOY_Change  \\\n",
       "0  27-Aug-19  49.590000  51.299999  49.349998   49.759998      -0.0034   \n",
       "1  28-Aug-19  49.855000  49.939999  49.215000   49.514999       0.0069   \n",
       "2  29-Aug-19  49.244999  50.147999  48.419998   49.805000      -0.0112   \n",
       "3  30-Aug-19  49.994999  51.049999  49.720001   49.830002       0.0033   \n",
       "4   2-Sep-19  49.840000  50.770000  49.830002   50.320000      -0.0095   \n",
       "\n",
       "   LLOY_Percent  LSE_Price  LSE_Open  LSE_High  LSE_Low  LSE_Change  \\\n",
       "0       -0.3416     6840.0    6900.0    6902.0   6784.0      0.0012   \n",
       "1        0.6867     6880.0    6852.0    6904.0   6804.0      0.0058   \n",
       "2       -1.1244     6970.0    6894.0    6982.0   6876.0      0.0131   \n",
       "3        0.3311     6954.0    6936.0    7032.0   6932.0     -0.0023   \n",
       "4       -0.9539     7020.0    6936.0    7040.0   6932.0      0.0095   \n",
       "\n",
       "   LSE_Percent  2 MYYC  10 MYYC   2s10s  \n",
       "0         0.12    0.37     0.47  0.1052  \n",
       "1         0.58    0.34     0.41  0.0722  \n",
       "2         1.31    0.35     0.40  0.0535  \n",
       "3        -0.23    0.38     0.44  0.0599  \n",
       "4         0.95    0.33     0.39  0.0601  "
      ]
     },
     "execution_count": 79,
     "metadata": {},
     "output_type": "execute_result"
    }
   ],
   "source": [
    "LLOYD_price.head()"
   ]
  },
  {
   "cell_type": "code",
   "execution_count": 80,
   "metadata": {},
   "outputs": [],
   "source": [
    "#Aiming to accurately prdeict the percent change of the daily stock price of LLOY.L\n",
    "\n",
    "y = LLOYD_price.LLOY_Percent"
   ]
  },
  {
   "cell_type": "code",
   "execution_count": 87,
   "metadata": {},
   "outputs": [],
   "source": [
    "YC_features = ['2s10s']"
   ]
  },
  {
   "cell_type": "code",
   "execution_count": 88,
   "metadata": {},
   "outputs": [],
   "source": [
    "X = LLOYD_price[YC_features]"
   ]
  },
  {
   "cell_type": "code",
   "execution_count": 89,
   "metadata": {
    "scrolled": true
   },
   "outputs": [
    {
     "data": {
      "text/html": [
       "<div>\n",
       "<style scoped>\n",
       "    .dataframe tbody tr th:only-of-type {\n",
       "        vertical-align: middle;\n",
       "    }\n",
       "\n",
       "    .dataframe tbody tr th {\n",
       "        vertical-align: top;\n",
       "    }\n",
       "\n",
       "    .dataframe thead th {\n",
       "        text-align: right;\n",
       "    }\n",
       "</style>\n",
       "<table border=\"1\" class=\"dataframe\">\n",
       "  <thead>\n",
       "    <tr style=\"text-align: right;\">\n",
       "      <th></th>\n",
       "      <th>2s10s</th>\n",
       "    </tr>\n",
       "  </thead>\n",
       "  <tbody>\n",
       "    <tr>\n",
       "      <td>0</td>\n",
       "      <td>0.1052</td>\n",
       "    </tr>\n",
       "    <tr>\n",
       "      <td>1</td>\n",
       "      <td>0.0722</td>\n",
       "    </tr>\n",
       "    <tr>\n",
       "      <td>2</td>\n",
       "      <td>0.0535</td>\n",
       "    </tr>\n",
       "    <tr>\n",
       "      <td>3</td>\n",
       "      <td>0.0599</td>\n",
       "    </tr>\n",
       "    <tr>\n",
       "      <td>4</td>\n",
       "      <td>0.0601</td>\n",
       "    </tr>\n",
       "  </tbody>\n",
       "</table>\n",
       "</div>"
      ],
      "text/plain": [
       "    2s10s\n",
       "0  0.1052\n",
       "1  0.0722\n",
       "2  0.0535\n",
       "3  0.0599\n",
       "4  0.0601"
      ]
     },
     "execution_count": 89,
     "metadata": {},
     "output_type": "execute_result"
    }
   ],
   "source": [
    "X.head()"
   ]
  },
  {
   "cell_type": "code",
   "execution_count": 90,
   "metadata": {},
   "outputs": [
    {
     "data": {
      "text/plain": [
       "0.7423755274261603"
      ]
     },
     "execution_count": 90,
     "metadata": {},
     "output_type": "execute_result"
    }
   ],
   "source": [
    "#In Model Validation of the model based on Mean Absolute Error\n",
    "\n",
    "predicted_change = LLOYD_model.predict(X)\n",
    "mean_absolute_error(y, predicted_change)"
   ]
  },
  {
   "cell_type": "code",
   "execution_count": 91,
   "metadata": {},
   "outputs": [
    {
     "name": "stdout",
     "output_type": "stream",
     "text": [
      "2.5645766666666665\n"
     ]
    }
   ],
   "source": [
    "#Validation of prediction based on Nominal Spot Yield Curve on a given reflected by MAE.\n",
    "\n",
    "from sklearn.metrics import mean_absolute_error\n",
    "from sklearn.model_selection import train_test_split\n",
    "\n",
    "train_X, val_X, train_y, val_y = train_test_split(X, y, random_state = 0)\n",
    "\n",
    "LLOYD_model = DecisionTreeRegressor()\n",
    "LLOYD_model.fit(train_X, train_y)\n",
    "\n",
    "val_predictions = LLOYD_model.predict(val_X)\n",
    "print(mean_absolute_error(val_y, val_predictions))"
   ]
  },
  {
   "cell_type": "code",
   "execution_count": 92,
   "metadata": {},
   "outputs": [],
   "source": [
    "LSE_features = ['LSE_Price', 'LSE_Open', 'LSE_High',\n",
    "       'LSE_Low', 'LSE_Percent']"
   ]
  },
  {
   "cell_type": "code",
   "execution_count": 93,
   "metadata": {},
   "outputs": [],
   "source": [
    "X = LLOYD_price[LSE_features]"
   ]
  },
  {
   "cell_type": "code",
   "execution_count": 94,
   "metadata": {},
   "outputs": [
    {
     "data": {
      "text/html": [
       "<div>\n",
       "<style scoped>\n",
       "    .dataframe tbody tr th:only-of-type {\n",
       "        vertical-align: middle;\n",
       "    }\n",
       "\n",
       "    .dataframe tbody tr th {\n",
       "        vertical-align: top;\n",
       "    }\n",
       "\n",
       "    .dataframe thead th {\n",
       "        text-align: right;\n",
       "    }\n",
       "</style>\n",
       "<table border=\"1\" class=\"dataframe\">\n",
       "  <thead>\n",
       "    <tr style=\"text-align: right;\">\n",
       "      <th></th>\n",
       "      <th>LSE_Price</th>\n",
       "      <th>LSE_Open</th>\n",
       "      <th>LSE_High</th>\n",
       "      <th>LSE_Low</th>\n",
       "      <th>LSE_Percent</th>\n",
       "    </tr>\n",
       "  </thead>\n",
       "  <tbody>\n",
       "    <tr>\n",
       "      <td>0</td>\n",
       "      <td>6840.0</td>\n",
       "      <td>6900.0</td>\n",
       "      <td>6902.0</td>\n",
       "      <td>6784.0</td>\n",
       "      <td>0.12</td>\n",
       "    </tr>\n",
       "    <tr>\n",
       "      <td>1</td>\n",
       "      <td>6880.0</td>\n",
       "      <td>6852.0</td>\n",
       "      <td>6904.0</td>\n",
       "      <td>6804.0</td>\n",
       "      <td>0.58</td>\n",
       "    </tr>\n",
       "    <tr>\n",
       "      <td>2</td>\n",
       "      <td>6970.0</td>\n",
       "      <td>6894.0</td>\n",
       "      <td>6982.0</td>\n",
       "      <td>6876.0</td>\n",
       "      <td>1.31</td>\n",
       "    </tr>\n",
       "    <tr>\n",
       "      <td>3</td>\n",
       "      <td>6954.0</td>\n",
       "      <td>6936.0</td>\n",
       "      <td>7032.0</td>\n",
       "      <td>6932.0</td>\n",
       "      <td>-0.23</td>\n",
       "    </tr>\n",
       "    <tr>\n",
       "      <td>4</td>\n",
       "      <td>7020.0</td>\n",
       "      <td>6936.0</td>\n",
       "      <td>7040.0</td>\n",
       "      <td>6932.0</td>\n",
       "      <td>0.95</td>\n",
       "    </tr>\n",
       "  </tbody>\n",
       "</table>\n",
       "</div>"
      ],
      "text/plain": [
       "   LSE_Price  LSE_Open  LSE_High  LSE_Low  LSE_Percent\n",
       "0     6840.0    6900.0    6902.0   6784.0         0.12\n",
       "1     6880.0    6852.0    6904.0   6804.0         0.58\n",
       "2     6970.0    6894.0    6982.0   6876.0         1.31\n",
       "3     6954.0    6936.0    7032.0   6932.0        -0.23\n",
       "4     7020.0    6936.0    7040.0   6932.0         0.95"
      ]
     },
     "execution_count": 94,
     "metadata": {},
     "output_type": "execute_result"
    }
   ],
   "source": [
    "X.head()"
   ]
  },
  {
   "cell_type": "code",
   "execution_count": 96,
   "metadata": {},
   "outputs": [
    {
     "name": "stdout",
     "output_type": "stream",
     "text": [
      "2.6995033333333334\n"
     ]
    }
   ],
   "source": [
    "#Validation of prediction based on LSE Performance on a given day reflected by MAE\n",
    "\n",
    "from sklearn.metrics import mean_absolute_error\n",
    "from sklearn.model_selection import train_test_split\n",
    "\n",
    "train_X, val_X, train_y, val_y = train_test_split(X, y, random_state = 0)\n",
    "\n",
    "LLOYD_model = DecisionTreeRegressor()\n",
    "LLOYD_model.fit(train_X, train_y)\n",
    "\n",
    "val_predictions = LLOYD_model.predict(val_X)\n",
    "print(mean_absolute_error(val_y, val_predictions))"
   ]
  },
  {
   "cell_type": "code",
   "execution_count": 97,
   "metadata": {},
   "outputs": [
    {
     "data": {
      "text/plain": [
       "0.6834185654008438"
      ]
     },
     "execution_count": 97,
     "metadata": {},
     "output_type": "execute_result"
    }
   ],
   "source": [
    "#In Model Validation of the model based on Mean Absolute Error\n",
    "\n",
    "predicted_change = LLOYD_model.predict(X)\n",
    "mean_absolute_error(y, predicted_change)"
   ]
  },
  {
   "cell_type": "code",
   "execution_count": 98,
   "metadata": {},
   "outputs": [],
   "source": [
    "LSE_YC_features = ['LSE_Price', 'LSE_Open', 'LSE_High',\n",
    "       'LSE_Low', 'LSE_Percent', '2s10s']"
   ]
  },
  {
   "cell_type": "code",
   "execution_count": 99,
   "metadata": {},
   "outputs": [],
   "source": [
    "X = LLOYD_price[LSE_YC_features]"
   ]
  },
  {
   "cell_type": "code",
   "execution_count": 100,
   "metadata": {},
   "outputs": [
    {
     "data": {
      "text/html": [
       "<div>\n",
       "<style scoped>\n",
       "    .dataframe tbody tr th:only-of-type {\n",
       "        vertical-align: middle;\n",
       "    }\n",
       "\n",
       "    .dataframe tbody tr th {\n",
       "        vertical-align: top;\n",
       "    }\n",
       "\n",
       "    .dataframe thead th {\n",
       "        text-align: right;\n",
       "    }\n",
       "</style>\n",
       "<table border=\"1\" class=\"dataframe\">\n",
       "  <thead>\n",
       "    <tr style=\"text-align: right;\">\n",
       "      <th></th>\n",
       "      <th>LSE_Price</th>\n",
       "      <th>LSE_Open</th>\n",
       "      <th>LSE_High</th>\n",
       "      <th>LSE_Low</th>\n",
       "      <th>LSE_Percent</th>\n",
       "      <th>2s10s</th>\n",
       "    </tr>\n",
       "  </thead>\n",
       "  <tbody>\n",
       "    <tr>\n",
       "      <td>0</td>\n",
       "      <td>6840.0</td>\n",
       "      <td>6900.0</td>\n",
       "      <td>6902.0</td>\n",
       "      <td>6784.0</td>\n",
       "      <td>0.12</td>\n",
       "      <td>0.1052</td>\n",
       "    </tr>\n",
       "    <tr>\n",
       "      <td>1</td>\n",
       "      <td>6880.0</td>\n",
       "      <td>6852.0</td>\n",
       "      <td>6904.0</td>\n",
       "      <td>6804.0</td>\n",
       "      <td>0.58</td>\n",
       "      <td>0.0722</td>\n",
       "    </tr>\n",
       "    <tr>\n",
       "      <td>2</td>\n",
       "      <td>6970.0</td>\n",
       "      <td>6894.0</td>\n",
       "      <td>6982.0</td>\n",
       "      <td>6876.0</td>\n",
       "      <td>1.31</td>\n",
       "      <td>0.0535</td>\n",
       "    </tr>\n",
       "    <tr>\n",
       "      <td>3</td>\n",
       "      <td>6954.0</td>\n",
       "      <td>6936.0</td>\n",
       "      <td>7032.0</td>\n",
       "      <td>6932.0</td>\n",
       "      <td>-0.23</td>\n",
       "      <td>0.0599</td>\n",
       "    </tr>\n",
       "    <tr>\n",
       "      <td>4</td>\n",
       "      <td>7020.0</td>\n",
       "      <td>6936.0</td>\n",
       "      <td>7040.0</td>\n",
       "      <td>6932.0</td>\n",
       "      <td>0.95</td>\n",
       "      <td>0.0601</td>\n",
       "    </tr>\n",
       "  </tbody>\n",
       "</table>\n",
       "</div>"
      ],
      "text/plain": [
       "   LSE_Price  LSE_Open  LSE_High  LSE_Low  LSE_Percent   2s10s\n",
       "0     6840.0    6900.0    6902.0   6784.0         0.12  0.1052\n",
       "1     6880.0    6852.0    6904.0   6804.0         0.58  0.0722\n",
       "2     6970.0    6894.0    6982.0   6876.0         1.31  0.0535\n",
       "3     6954.0    6936.0    7032.0   6932.0        -0.23  0.0599\n",
       "4     7020.0    6936.0    7040.0   6932.0         0.95  0.0601"
      ]
     },
     "execution_count": 100,
     "metadata": {},
     "output_type": "execute_result"
    }
   ],
   "source": [
    "X.head()"
   ]
  },
  {
   "cell_type": "code",
   "execution_count": 101,
   "metadata": {},
   "outputs": [
    {
     "name": "stdout",
     "output_type": "stream",
     "text": [
      "2.6166700000000005\n"
     ]
    }
   ],
   "source": [
    "#Validation of prediction based on LSE Performance on a given day.\n",
    "\n",
    "from sklearn.metrics import mean_absolute_error\n",
    "from sklearn.model_selection import train_test_split\n",
    "\n",
    "train_X, val_X, train_y, val_y = train_test_split(X, y, random_state = 0)\n",
    "\n",
    "LLOYD_model = DecisionTreeRegressor()\n",
    "LLOYD_model.fit(train_X, train_y)\n",
    "\n",
    "val_predictions = LLOYD_model.predict(val_X)\n",
    "print(mean_absolute_error(val_y, val_predictions))"
   ]
  },
  {
   "cell_type": "code",
   "execution_count": 102,
   "metadata": {},
   "outputs": [
    {
     "data": {
      "text/plain": [
       "0.6624481012658228"
      ]
     },
     "execution_count": 102,
     "metadata": {},
     "output_type": "execute_result"
    }
   ],
   "source": [
    "#In-model MAE \n",
    "\n",
    "predicted_change = LLOYD_model.predict(X)\n",
    "mean_absolute_error(y, predicted_change)"
   ]
  },
  {
   "cell_type": "code",
   "execution_count": null,
   "metadata": {},
   "outputs": [],
   "source": []
  }
 ],
 "metadata": {
  "kernelspec": {
   "display_name": "Python 3",
   "language": "python",
   "name": "python3"
  },
  "language_info": {
   "codemirror_mode": {
    "name": "ipython",
    "version": 3
   },
   "file_extension": ".py",
   "mimetype": "text/x-python",
   "name": "python",
   "nbconvert_exporter": "python",
   "pygments_lexer": "ipython3",
   "version": "3.7.4"
  }
 },
 "nbformat": 4,
 "nbformat_minor": 2
}
