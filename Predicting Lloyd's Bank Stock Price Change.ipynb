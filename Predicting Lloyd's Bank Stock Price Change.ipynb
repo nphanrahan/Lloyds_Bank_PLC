{
 "cells": [
  {
   "cell_type": "code",
   "execution_count": 39,
   "metadata": {},
   "outputs": [
    {
     "data": {
      "text/plain": [
       "Index(['Date', 'LLOY_Open', 'LLOY_High', 'LLOY_Low', 'LLOY_Close',\n",
       "       'LLOY_Change', 'LLOY_PERCENT', 'LSE_Price', 'LSE_Open', 'LSE_High',\n",
       "       'LSE_Low', 'LSE_Change', 'LSE_Percent', 'Unnamed: 13'],\n",
       "      dtype='object')"
      ]
     },
     "execution_count": 39,
     "metadata": {},
     "output_type": "execute_result"
    }
   ],
   "source": [
    "import pandas as pd\n",
    "LLOYD_LSE = pd.read_csv(\"/Users/natehanrahan/Downloads/LLOY_and_LSE.csv\")\n",
    "LLOYD_LSE.columns"
   ]
  },
  {
   "cell_type": "code",
   "execution_count": 40,
   "metadata": {},
   "outputs": [
    {
     "data": {
      "text/html": [
       "<div>\n",
       "<style scoped>\n",
       "    .dataframe tbody tr th:only-of-type {\n",
       "        vertical-align: middle;\n",
       "    }\n",
       "\n",
       "    .dataframe tbody tr th {\n",
       "        vertical-align: top;\n",
       "    }\n",
       "\n",
       "    .dataframe thead th {\n",
       "        text-align: right;\n",
       "    }\n",
       "</style>\n",
       "<table border=\"1\" class=\"dataframe\">\n",
       "  <thead>\n",
       "    <tr style=\"text-align: right;\">\n",
       "      <th></th>\n",
       "      <th>Date</th>\n",
       "      <th>LLOY_Open</th>\n",
       "      <th>LLOY_High</th>\n",
       "      <th>LLOY_Low</th>\n",
       "      <th>LLOY_Close</th>\n",
       "      <th>LLOY_Change</th>\n",
       "      <th>LLOY_PERCENT</th>\n",
       "      <th>LSE_Price</th>\n",
       "      <th>LSE_Open</th>\n",
       "      <th>LSE_High</th>\n",
       "      <th>LSE_Low</th>\n",
       "      <th>LSE_Change</th>\n",
       "      <th>LSE_Percent</th>\n",
       "      <th>Unnamed: 13</th>\n",
       "    </tr>\n",
       "  </thead>\n",
       "  <tbody>\n",
       "    <tr>\n",
       "      <td>0</td>\n",
       "      <td>27-Aug-19</td>\n",
       "      <td>49.590000</td>\n",
       "      <td>51.299999</td>\n",
       "      <td>49.349998</td>\n",
       "      <td>49.759998</td>\n",
       "      <td>-0.0034</td>\n",
       "      <td>-0.3416</td>\n",
       "      <td>6840.0</td>\n",
       "      <td>6900.0</td>\n",
       "      <td>6902.0</td>\n",
       "      <td>6784.0</td>\n",
       "      <td>0.0012</td>\n",
       "      <td>0.12</td>\n",
       "      <td>NaN</td>\n",
       "    </tr>\n",
       "    <tr>\n",
       "      <td>1</td>\n",
       "      <td>28-Aug-19</td>\n",
       "      <td>49.855000</td>\n",
       "      <td>49.939999</td>\n",
       "      <td>49.215000</td>\n",
       "      <td>49.514999</td>\n",
       "      <td>0.0069</td>\n",
       "      <td>0.6867</td>\n",
       "      <td>6880.0</td>\n",
       "      <td>6852.0</td>\n",
       "      <td>6904.0</td>\n",
       "      <td>6804.0</td>\n",
       "      <td>0.0058</td>\n",
       "      <td>0.58</td>\n",
       "      <td>NaN</td>\n",
       "    </tr>\n",
       "    <tr>\n",
       "      <td>2</td>\n",
       "      <td>29-Aug-19</td>\n",
       "      <td>49.244999</td>\n",
       "      <td>50.147999</td>\n",
       "      <td>48.419998</td>\n",
       "      <td>49.805000</td>\n",
       "      <td>-0.0112</td>\n",
       "      <td>-1.1244</td>\n",
       "      <td>6970.0</td>\n",
       "      <td>6894.0</td>\n",
       "      <td>6982.0</td>\n",
       "      <td>6876.0</td>\n",
       "      <td>0.0131</td>\n",
       "      <td>1.31</td>\n",
       "      <td>NaN</td>\n",
       "    </tr>\n",
       "    <tr>\n",
       "      <td>3</td>\n",
       "      <td>30-Aug-19</td>\n",
       "      <td>49.994999</td>\n",
       "      <td>51.049999</td>\n",
       "      <td>49.720001</td>\n",
       "      <td>49.830002</td>\n",
       "      <td>0.0033</td>\n",
       "      <td>0.3311</td>\n",
       "      <td>6954.0</td>\n",
       "      <td>6936.0</td>\n",
       "      <td>7032.0</td>\n",
       "      <td>6932.0</td>\n",
       "      <td>-0.0023</td>\n",
       "      <td>-0.23</td>\n",
       "      <td>NaN</td>\n",
       "    </tr>\n",
       "    <tr>\n",
       "      <td>4</td>\n",
       "      <td>2-Sep-19</td>\n",
       "      <td>49.840000</td>\n",
       "      <td>50.770000</td>\n",
       "      <td>49.830002</td>\n",
       "      <td>50.320000</td>\n",
       "      <td>-0.0095</td>\n",
       "      <td>-0.9539</td>\n",
       "      <td>7020.0</td>\n",
       "      <td>6936.0</td>\n",
       "      <td>7040.0</td>\n",
       "      <td>6932.0</td>\n",
       "      <td>0.0095</td>\n",
       "      <td>0.95</td>\n",
       "      <td>NaN</td>\n",
       "    </tr>\n",
       "  </tbody>\n",
       "</table>\n",
       "</div>"
      ],
      "text/plain": [
       "        Date  LLOY_Open  LLOY_High   LLOY_Low  LLOY_Close  LLOY_Change  \\\n",
       "0  27-Aug-19  49.590000  51.299999  49.349998   49.759998      -0.0034   \n",
       "1  28-Aug-19  49.855000  49.939999  49.215000   49.514999       0.0069   \n",
       "2  29-Aug-19  49.244999  50.147999  48.419998   49.805000      -0.0112   \n",
       "3  30-Aug-19  49.994999  51.049999  49.720001   49.830002       0.0033   \n",
       "4   2-Sep-19  49.840000  50.770000  49.830002   50.320000      -0.0095   \n",
       "\n",
       "   LLOY_PERCENT  LSE_Price  LSE_Open  LSE_High  LSE_Low  LSE_Change  \\\n",
       "0       -0.3416     6840.0    6900.0    6902.0   6784.0      0.0012   \n",
       "1        0.6867     6880.0    6852.0    6904.0   6804.0      0.0058   \n",
       "2       -1.1244     6970.0    6894.0    6982.0   6876.0      0.0131   \n",
       "3        0.3311     6954.0    6936.0    7032.0   6932.0     -0.0023   \n",
       "4       -0.9539     7020.0    6936.0    7040.0   6932.0      0.0095   \n",
       "\n",
       "   LSE_Percent  Unnamed: 13  \n",
       "0         0.12          NaN  \n",
       "1         0.58          NaN  \n",
       "2         1.31          NaN  \n",
       "3        -0.23          NaN  \n",
       "4         0.95          NaN  "
      ]
     },
     "execution_count": 40,
     "metadata": {},
     "output_type": "execute_result"
    }
   ],
   "source": [
    "LLOYD_LSE.head()"
   ]
  },
  {
   "cell_type": "code",
   "execution_count": 41,
   "metadata": {},
   "outputs": [],
   "source": [
    "y = LLOYD_LSE.LLOY_PERCENT"
   ]
  },
  {
   "cell_type": "code",
   "execution_count": 42,
   "metadata": {},
   "outputs": [],
   "source": [
    "LSE_features = ['LSE_Price', 'LSE_Open', 'LSE_High',\n",
    "       'LSE_Low', 'LSE_Percent']"
   ]
  },
  {
   "cell_type": "code",
   "execution_count": 43,
   "metadata": {},
   "outputs": [],
   "source": [
    "X = LLOYD_LSE[LSE_features]"
   ]
  },
  {
   "cell_type": "code",
   "execution_count": 44,
   "metadata": {},
   "outputs": [
    {
     "data": {
      "text/html": [
       "<div>\n",
       "<style scoped>\n",
       "    .dataframe tbody tr th:only-of-type {\n",
       "        vertical-align: middle;\n",
       "    }\n",
       "\n",
       "    .dataframe tbody tr th {\n",
       "        vertical-align: top;\n",
       "    }\n",
       "\n",
       "    .dataframe thead th {\n",
       "        text-align: right;\n",
       "    }\n",
       "</style>\n",
       "<table border=\"1\" class=\"dataframe\">\n",
       "  <thead>\n",
       "    <tr style=\"text-align: right;\">\n",
       "      <th></th>\n",
       "      <th>LSE_Price</th>\n",
       "      <th>LSE_Open</th>\n",
       "      <th>LSE_High</th>\n",
       "      <th>LSE_Low</th>\n",
       "      <th>LSE_Percent</th>\n",
       "    </tr>\n",
       "  </thead>\n",
       "  <tbody>\n",
       "    <tr>\n",
       "      <td>count</td>\n",
       "      <td>252.000000</td>\n",
       "      <td>252.000000</td>\n",
       "      <td>252.000000</td>\n",
       "      <td>252.000000</td>\n",
       "      <td>252.000000</td>\n",
       "    </tr>\n",
       "    <tr>\n",
       "      <td>mean</td>\n",
       "      <td>7621.063492</td>\n",
       "      <td>7621.817460</td>\n",
       "      <td>7727.832937</td>\n",
       "      <td>7502.921032</td>\n",
       "      <td>0.126548</td>\n",
       "    </tr>\n",
       "    <tr>\n",
       "      <td>std</td>\n",
       "      <td>634.189419</td>\n",
       "      <td>633.793699</td>\n",
       "      <td>621.642904</td>\n",
       "      <td>654.686517</td>\n",
       "      <td>2.243569</td>\n",
       "    </tr>\n",
       "    <tr>\n",
       "      <td>min</td>\n",
       "      <td>5806.000000</td>\n",
       "      <td>5818.000000</td>\n",
       "      <td>6016.000000</td>\n",
       "      <td>5300.000000</td>\n",
       "      <td>-9.660000</td>\n",
       "    </tr>\n",
       "    <tr>\n",
       "      <td>25%</td>\n",
       "      <td>7073.000000</td>\n",
       "      <td>7099.500000</td>\n",
       "      <td>7220.000000</td>\n",
       "      <td>6966.000000</td>\n",
       "      <td>-0.820000</td>\n",
       "    </tr>\n",
       "    <tr>\n",
       "      <td>50%</td>\n",
       "      <td>7581.000000</td>\n",
       "      <td>7570.000000</td>\n",
       "      <td>7688.000000</td>\n",
       "      <td>7478.000000</td>\n",
       "      <td>0.170000</td>\n",
       "    </tr>\n",
       "    <tr>\n",
       "      <td>75%</td>\n",
       "      <td>8193.000000</td>\n",
       "      <td>8192.000000</td>\n",
       "      <td>8258.500000</td>\n",
       "      <td>8052.000000</td>\n",
       "      <td>1.295000</td>\n",
       "    </tr>\n",
       "    <tr>\n",
       "      <td>max</td>\n",
       "      <td>8908.000000</td>\n",
       "      <td>9000.000000</td>\n",
       "      <td>9072.000000</td>\n",
       "      <td>8874.000000</td>\n",
       "      <td>10.400000</td>\n",
       "    </tr>\n",
       "  </tbody>\n",
       "</table>\n",
       "</div>"
      ],
      "text/plain": [
       "         LSE_Price     LSE_Open     LSE_High      LSE_Low  LSE_Percent\n",
       "count   252.000000   252.000000   252.000000   252.000000   252.000000\n",
       "mean   7621.063492  7621.817460  7727.832937  7502.921032     0.126548\n",
       "std     634.189419   633.793699   621.642904   654.686517     2.243569\n",
       "min    5806.000000  5818.000000  6016.000000  5300.000000    -9.660000\n",
       "25%    7073.000000  7099.500000  7220.000000  6966.000000    -0.820000\n",
       "50%    7581.000000  7570.000000  7688.000000  7478.000000     0.170000\n",
       "75%    8193.000000  8192.000000  8258.500000  8052.000000     1.295000\n",
       "max    8908.000000  9000.000000  9072.000000  8874.000000    10.400000"
      ]
     },
     "execution_count": 44,
     "metadata": {},
     "output_type": "execute_result"
    }
   ],
   "source": [
    "X.describe()"
   ]
  },
  {
   "cell_type": "code",
   "execution_count": 45,
   "metadata": {},
   "outputs": [
    {
     "data": {
      "text/html": [
       "<div>\n",
       "<style scoped>\n",
       "    .dataframe tbody tr th:only-of-type {\n",
       "        vertical-align: middle;\n",
       "    }\n",
       "\n",
       "    .dataframe tbody tr th {\n",
       "        vertical-align: top;\n",
       "    }\n",
       "\n",
       "    .dataframe thead th {\n",
       "        text-align: right;\n",
       "    }\n",
       "</style>\n",
       "<table border=\"1\" class=\"dataframe\">\n",
       "  <thead>\n",
       "    <tr style=\"text-align: right;\">\n",
       "      <th></th>\n",
       "      <th>LSE_Price</th>\n",
       "      <th>LSE_Open</th>\n",
       "      <th>LSE_High</th>\n",
       "      <th>LSE_Low</th>\n",
       "      <th>LSE_Percent</th>\n",
       "    </tr>\n",
       "  </thead>\n",
       "  <tbody>\n",
       "    <tr>\n",
       "      <td>0</td>\n",
       "      <td>6840.0</td>\n",
       "      <td>6900.0</td>\n",
       "      <td>6902.0</td>\n",
       "      <td>6784.0</td>\n",
       "      <td>0.12</td>\n",
       "    </tr>\n",
       "    <tr>\n",
       "      <td>1</td>\n",
       "      <td>6880.0</td>\n",
       "      <td>6852.0</td>\n",
       "      <td>6904.0</td>\n",
       "      <td>6804.0</td>\n",
       "      <td>0.58</td>\n",
       "    </tr>\n",
       "    <tr>\n",
       "      <td>2</td>\n",
       "      <td>6970.0</td>\n",
       "      <td>6894.0</td>\n",
       "      <td>6982.0</td>\n",
       "      <td>6876.0</td>\n",
       "      <td>1.31</td>\n",
       "    </tr>\n",
       "    <tr>\n",
       "      <td>3</td>\n",
       "      <td>6954.0</td>\n",
       "      <td>6936.0</td>\n",
       "      <td>7032.0</td>\n",
       "      <td>6932.0</td>\n",
       "      <td>-0.23</td>\n",
       "    </tr>\n",
       "    <tr>\n",
       "      <td>4</td>\n",
       "      <td>7020.0</td>\n",
       "      <td>6936.0</td>\n",
       "      <td>7040.0</td>\n",
       "      <td>6932.0</td>\n",
       "      <td>0.95</td>\n",
       "    </tr>\n",
       "  </tbody>\n",
       "</table>\n",
       "</div>"
      ],
      "text/plain": [
       "   LSE_Price  LSE_Open  LSE_High  LSE_Low  LSE_Percent\n",
       "0     6840.0    6900.0    6902.0   6784.0         0.12\n",
       "1     6880.0    6852.0    6904.0   6804.0         0.58\n",
       "2     6970.0    6894.0    6982.0   6876.0         1.31\n",
       "3     6954.0    6936.0    7032.0   6932.0        -0.23\n",
       "4     7020.0    6936.0    7040.0   6932.0         0.95"
      ]
     },
     "execution_count": 45,
     "metadata": {},
     "output_type": "execute_result"
    }
   ],
   "source": [
    "X.head()"
   ]
  },
  {
   "cell_type": "code",
   "execution_count": 47,
   "metadata": {},
   "outputs": [
    {
     "name": "stdout",
     "output_type": "stream",
     "text": [
      "2.6409301587301584\n"
     ]
    }
   ],
   "source": [
    "from sklearn.metrics import mean_absolute_error\n",
    "from sklearn.model_selection import train_test_split\n",
    "\n",
    "train_X, val_X, train_y, val_y = train_test_split(X, y, random_state = 0)\n",
    "\n",
    "LLOYD_model = DecisionTreeRegressor()\n",
    "LLOYD_model.fit(train_X, train_y)\n",
    "\n",
    "val_predictions = LLOYD_model.predict(val_X)\n",
    "print(mean_absolute_error(val_y, val_predictions))"
   ]
  },
  {
   "cell_type": "code",
   "execution_count": 48,
   "metadata": {},
   "outputs": [
    {
     "data": {
      "text/plain": [
       "0.6602325396825397"
      ]
     },
     "execution_count": 48,
     "metadata": {},
     "output_type": "execute_result"
    }
   ],
   "source": [
    "predicted_change = LLOYD_model.predict(X)\n",
    "mean_absolute_error(y, predicted_change)"
   ]
  },
  {
   "cell_type": "code",
   "execution_count": null,
   "metadata": {},
   "outputs": [],
   "source": []
  }
 ],
 "metadata": {
  "kernelspec": {
   "display_name": "Python 3",
   "language": "python",
   "name": "python3"
  },
  "language_info": {
   "codemirror_mode": {
    "name": "ipython",
    "version": 3
   },
   "file_extension": ".py",
   "mimetype": "text/x-python",
   "name": "python",
   "nbconvert_exporter": "python",
   "pygments_lexer": "ipython3",
   "version": "3.7.4"
  }
 },
 "nbformat": 4,
 "nbformat_minor": 2
}
