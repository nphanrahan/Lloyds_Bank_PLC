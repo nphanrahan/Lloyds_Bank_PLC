{
 "cells": [
  {
   "cell_type": "code",
   "execution_count": 144,
   "metadata": {},
   "outputs": [
    {
     "name": "stdout",
     "output_type": "stream",
     "text": [
      "Predictions based on the 2s10s Yield Curve\n",
      "\n",
      "Validation MAE: 2.7742758333333333\n",
      "First in-sample predictions: [-2.7303  0.6867 -1.1244  0.3311  0.3311]\n",
      "Actual price change those days: [-0.3416, 0.6867, -1.1244, 0.3311, -0.9539]\n",
      "\n",
      "Ideal number of nodes to reach otpimal fitting of model\n",
      "Max leaf nodes: 5  \t\t Mean Absolute Error:  2\n",
      "Max leaf nodes: 50  \t\t Mean Absolute Error:  2\n",
      "Max leaf nodes: 500  \t\t Mean Absolute Error:  2\n",
      "Max leaf nodes: 5000  \t\t Mean Absolute Error:  2\n"
     ]
    }
   ],
   "source": [
    "import pandas as pd\n",
    "from sklearn.metrics import mean_absolute_error\n",
    "from sklearn.model_selection import train_test_split\n",
    "from sklearn.tree import DecisionTreeRegressor\n",
    "\n",
    "LLOYD_price = pd.read_csv(\"/Users/natehanrahan/Downloads/LLOY_and_LSE.csv\")\n",
    "\n",
    "LLOYD_price = LLOYD_price.dropna(axis=0)\n",
    "\n",
    "y = LLOYD_price.LLOY_Percent\n",
    "\n",
    "YC_features = ['2s10s']\n",
    "X = LLOYD_price[YC_features]\n",
    "\n",
    "train_X, val_X, train_y, val_y = train_test_split(X, y, random_state = 1)\n",
    "\n",
    "LLOYD_model = DecisionTreeRegressor(random_state =1)\n",
    "LLOYD_model.fit(train_X, train_y)\n",
    "\n",
    "val_predictions = LLOYD_model.predict(val_X)\n",
    "val_mae = mean_absolute_error(val_y, val_predictions)\n",
    "print(\"Predictions based on the 2s10s Yield Curve\")\n",
    "print( )\n",
    "print(\"Validation MAE:\", val_mae)\n",
    "print(\"First in-sample predictions:\", LLOYD_model.predict(X.head()))\n",
    "print(\"Actual price change those days:\", y.head().tolist())\n",
    "\n",
    "def get_mae(max_leaf_nodes, train_X, val_X, train_y, val_y):\n",
    "    model = DecisionTreeRegressor(max_leaf_nodes=max_leaf_nodes, random_state=1)\n",
    "    model.fit(train_X, train_y)\n",
    "    preds_val = model.predict(val_X)\n",
    "    mae = mean_absolute_error(val_y, val_predictions)\n",
    "    return(mae)\n",
    "\n",
    "print( )\n",
    "print(\"Ideal number of nodes to reach otpimal fitting of model\")\n",
    "for max_leaf_nodes in [5, 50, 500, 5000]:\n",
    "    my_mae = get_mae(max_leaf_nodes, train_X, val_X, train_y, val_y)\n",
    "    print(\"Max leaf nodes: %d  \\t\\t Mean Absolute Error:  %d\" %(max_leaf_nodes, my_mae))"
   ]
  },
  {
   "cell_type": "code",
   "execution_count": 145,
   "metadata": {},
   "outputs": [
    {
     "name": "stdout",
     "output_type": "stream",
     "text": [
      "Predictions based on the London Stock Exchange daily price change\n",
      "\n",
      "Validation MAE: 2.3771733333333334\n",
      "First in-sample predictions: [-0.7867  0.6867 -1.1244  0.3311  0.3311]\n",
      "Actual price change those days: [-0.3416, 0.6867, -1.1244, 0.3311, -0.9539]\n",
      "\n",
      "Ideal number of nodes to reach otpimal fitting of model\n",
      "Max leaf nodes: 5  \t\t Mean Absolute Error:  2\n",
      "Max leaf nodes: 50  \t\t Mean Absolute Error:  2\n",
      "Max leaf nodes: 500  \t\t Mean Absolute Error:  2\n",
      "Max leaf nodes: 5000  \t\t Mean Absolute Error:  2\n"
     ]
    }
   ],
   "source": [
    "#Using both LSE data and YC data to\n",
    "\n",
    "LSE_features = ['LSE_Price', 'LSE_Open', 'LSE_High',\n",
    "       'LSE_Low', 'LSE_Percent','2s10s']\n",
    "X = LLOYD_price[LSE_features]\n",
    "\n",
    "train_X, val_X, train_y, val_y = train_test_split(X, y, random_state = 1)\n",
    "\n",
    "LLOYD_model = DecisionTreeRegressor(random_state =1)\n",
    "LLOYD_model.fit(train_X, train_y)\n",
    "\n",
    "val_predictions = LLOYD_model.predict(val_X)\n",
    "val_mae = mean_absolute_error(val_y, val_predictions)\n",
    "print(\"Predictions based on the London Stock Exchange daily price change\")\n",
    "print( )\n",
    "print(\"Validation MAE:\", val_mae)\n",
    "print(\"First in-sample predictions:\", LLOYD_model.predict(X.head()))\n",
    "print(\"Actual price change those days:\", y.head().tolist())\n",
    "\n",
    "def get_mae(max_leaf_nodes, train_X, val_X, train_y, val_y):\n",
    "    model = DecisionTreeRegressor(max_leaf_nodes=max_leaf_nodes, random_state=1)\n",
    "    model.fit(train_X, train_y)\n",
    "    preds_val = model.predict(val_X)\n",
    "    mae = mean_absolute_error(val_y, val_predictions)\n",
    "    return(mae)\n",
    "\n",
    "print( )\n",
    "print(\"Ideal number of nodes to reach otpimal fitting of model\")\n",
    "for max_leaf_nodes in [5, 50, 500, 5000]:\n",
    "    my_mae = get_mae(max_leaf_nodes, train_X, val_X, train_y, val_y)\n",
    "    print(\"Max leaf nodes: %d  \\t\\t Mean Absolute Error:  %d\" %(max_leaf_nodes, my_mae))"
   ]
  },
  {
   "cell_type": "code",
   "execution_count": 146,
   "metadata": {},
   "outputs": [
    {
     "data": {
      "text/plain": [
       "Index(['Date', 'LLOY_Open', 'LLOY_High', 'LLOY_Low', 'LLOY_Close',\n",
       "       'LLOY_Change', 'LLOY_Percent', 'LSE_Price', 'LSE_Open', 'LSE_High',\n",
       "       'LSE_Low', 'LSE_Change', 'LSE_Percent', '2 MYYC', '10 MYYC', '2s10s',\n",
       "       'HSBC_Open', 'HSBC_High', 'HSBC_Low', 'HSBC_Close', 'HSBC_Change',\n",
       "       'HSBC_Percent2'],\n",
       "      dtype='object')"
      ]
     },
     "execution_count": 146,
     "metadata": {},
     "output_type": "execute_result"
    }
   ],
   "source": [
    "LLOYD_price.columns"
   ]
  },
  {
   "cell_type": "code",
   "execution_count": 149,
   "metadata": {},
   "outputs": [
    {
     "name": "stdout",
     "output_type": "stream",
     "text": [
      "Predictions based on the London Stock Exchange daily price change\n",
      "\n",
      "Validation MAE: 2.30557\n",
      "First in-sample predictions: [ 3.8697  0.6867 -1.1244  0.3311 -1.1838]\n",
      "Actual price change those days: [-0.3416, 0.6867, -1.1244, 0.3311, -0.9539]\n",
      "\n",
      "Ideal number of nodes to reach otpimal fitting of model\n",
      "Max leaf nodes: 5  \t\t Mean Absolute Error:  2\n",
      "Max leaf nodes: 50  \t\t Mean Absolute Error:  2\n",
      "Max leaf nodes: 500  \t\t Mean Absolute Error:  2\n",
      "Max leaf nodes: 5000  \t\t Mean Absolute Error:  2\n"
     ]
    }
   ],
   "source": [
    "#Included the % change in HSBC stock price to see if pegging the score of the one shows an accurate reflection in LLOY.L\n",
    "\n",
    "YC_LSE_HSBC_features = ['LSE_Price', 'LSE_Open', 'LSE_High',\n",
    "       'LSE_Low', 'LSE_Percent','2s10s','HSBC_Percent2']\n",
    "X = LLOYD_price[YC_LSE_HSBC_features]\n",
    "\n",
    "train_X, val_X, train_y, val_y = train_test_split(X, y, random_state = 1)\n",
    "\n",
    "LLOYD_model = DecisionTreeRegressor(random_state =1)\n",
    "LLOYD_model.fit(train_X, train_y)\n",
    "\n",
    "val_predictions = LLOYD_model.predict(val_X)\n",
    "val_mae = mean_absolute_error(val_y, val_predictions)\n",
    "print(\"Predictions based on the London Stock Exchange daily price change\")\n",
    "print( )\n",
    "print(\"Validation MAE:\", val_mae)\n",
    "print(\"First in-sample predictions:\", LLOYD_model.predict(X.head()))\n",
    "print(\"Actual price change those days:\", y.head().tolist())\n",
    "\n",
    "def get_mae(max_leaf_nodes, train_X, val_X, train_y, val_y):\n",
    "    model = DecisionTreeRegressor(max_leaf_nodes=max_leaf_nodes, random_state=1)\n",
    "    model.fit(train_X, train_y)\n",
    "    preds_val = model.predict(val_X)\n",
    "    mae = mean_absolute_error(val_y, val_predictions)\n",
    "    return(mae)\n",
    "\n",
    "print( )\n",
    "print(\"Ideal number of nodes to reach otpimal fitting of model\")\n",
    "for max_leaf_nodes in [5, 50, 500, 5000]:\n",
    "    my_mae = get_mae(max_leaf_nodes, train_X, val_X, train_y, val_y)\n",
    "    print(\"Max leaf nodes: %d  \\t\\t Mean Absolute Error:  %d\" %(max_leaf_nodes, my_mae))"
   ]
  },
  {
   "cell_type": "code",
   "execution_count": null,
   "metadata": {},
   "outputs": [],
   "source": []
  }
 ],
 "metadata": {
  "kernelspec": {
   "display_name": "Python 3",
   "language": "python",
   "name": "python3"
  },
  "language_info": {
   "codemirror_mode": {
    "name": "ipython",
    "version": 3
   },
   "file_extension": ".py",
   "mimetype": "text/x-python",
   "name": "python",
   "nbconvert_exporter": "python",
   "pygments_lexer": "ipython3",
   "version": "3.7.4"
  }
 },
 "nbformat": 4,
 "nbformat_minor": 2
}
